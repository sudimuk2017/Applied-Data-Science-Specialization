{
 "cells": [
  {
   "cell_type": "markdown",
   "metadata": {},
   "source": [
    "http://stackoverflow.com/research/developer-survey-2016#most-popular-technologies-per-occupation"
   ]
  },
  {
   "cell_type": "code",
   "execution_count": 1,
   "metadata": {},
   "outputs": [
    {
     "data": {
      "text/plain": [
       "<matplotlib.figure.Figure at 0x7b4cfd0>"
      ]
     },
     "metadata": {},
     "output_type": "display_data"
    }
   ],
   "source": [
    "import matplotlib.pyplot as plt\n",
    "import numpy as np\n",
    "\n",
    "plt.figure()\n",
    "\n",
    "languages =['Python', 'SQL', 'Java', 'C++', 'JavaScript']\n",
    "pos = np.arange(len(languages))\n",
    "popularity = [56, 39, 34, 34, 29]\n",
    "\n",
    "plt.bar(pos, popularity, align='center')\n",
    "plt.xticks(pos, languages)\n",
    "plt.ylabel('% Popularity')\n",
    "plt.title('Top 5 Languages for Math & Data \\nby % Popularity on Stack Overflow')\n",
    " \n",
    "plt.show()"
   ]
  },
  {
   "cell_type": "code",
   "execution_count": 2,
   "metadata": {
    "scrolled": true
   },
   "outputs": [
    {
     "data": {
      "image/png": "[encoded data removed]",
      "text/plain": [
       "<matplotlib.figure.Figure at 0xd76a130>"
      ]
     },
     "metadata": {},
     "output_type": "display_data"
    }
   ],
   "source": [
    "import matplotlib.pyplot as plt\n",
    "import numpy as np\n",
    "\n",
    "plt.figure()\n",
    "\n",
    "languages =['Python', 'SQL', 'Java', 'C++', 'JavaScript']\n",
    "pos = np.arange(len(languages))\n",
    "popularity = [56, 39, 34, 34, 29]\n",
    "\n",
    "# change the bar color to be less bright blue\n",
    "bars = plt.bar(pos, popularity, align='center', linewidth=0, color='lightslategrey')\n",
    "# change one bar, the python bar, to a contrasting color\n",
    "bars[0].set_color('#1F77B4')\n",
    "\n",
    "# soften all labels by turning grey\n",
    "plt.xticks(pos, languages, alpha=0.8)\n",
    "# remove the Y label since bars are directly labeled\n",
    "#plt.ylabel('% Popularity', alpha=0.8)\n",
    "plt.title('Top 5 Languages for Math & Data \\nby % popularity on Stack Overflow', alpha=0.8)\n",
    "\n",
    "# remove all the ticks (both axes), and tick labels on the Y axis\n",
    "plt.tick_params(top='off', bottom='off', left='off', right='off', labelleft='off', labelbottom='on')\n",
    "\n",
    "# remove the frame of the chart\n",
    "for spine in plt.gca().spines.values():\n",
    "    spine.set_visible(False)\n",
    "    \n",
    "# direct label each bar with Y axis values\n",
    "for bar in bars:\n",
    "    height = bar.get_height()\n",
    "    plt.gca().text(bar.get_x() + bar.get_width()/2, bar.get_height() - 5, str(int(height)) + '%', \n",
    "                 ha='center', color='w', fontsize=11)\n",
    "plt.show()"
   ]
  },
  {
   "cell_type": "code",
   "execution_count": null,
   "metadata": {},
   "outputs": [],
   "source": []
  }
 ],
 "metadata": {
  "anaconda-cloud": {},
  "kernelspec": {
   "display_name": "Python 3",
   "language": "python",
   "name": "python3"
  },
  "language_info": {
   "codemirror_mode": {
    "name": "ipython",
    "version": 3
   },
   "file_extension": ".py",
   "mimetype": "text/x-python",
   "name": "python",
   "nbconvert_exporter": "python",
   "pygments_lexer": "ipython3",
   "version": "3.6.4"
  }
 },
 "nbformat": 4,
 "nbformat_minor": 2
}
